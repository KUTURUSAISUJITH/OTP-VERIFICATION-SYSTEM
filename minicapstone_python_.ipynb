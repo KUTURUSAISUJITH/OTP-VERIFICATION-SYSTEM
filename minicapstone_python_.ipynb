{
  "nbformat": 4,
  "nbformat_minor": 0,
  "metadata": {
    "colab": {
      "provenance": [],
      "authorship_tag": "ABX9TyP9Vln2ZOu0gAdaDm4ZoD7Z",
      "include_colab_link": true
    },
    "kernelspec": {
      "name": "python3",
      "display_name": "Python 3"
    },
    "language_info": {
      "name": "python"
    }
  },
  "cells": [
    {
      "cell_type": "markdown",
      "metadata": {
        "id": "view-in-github",
        "colab_type": "text"
      },
      "source": [
        "<a href=\"https://colab.research.google.com/github/KUTURUSAISUJITH/OTP-VERIFICATION-SYSTEM/blob/main/minicapstone_python_.ipynb\" target=\"_parent\"><img src=\"https://colab.research.google.com/assets/colab-badge.svg\" alt=\"Open In Colab\"/></a>"
      ]
    },
    {
      "cell_type": "code",
      "execution_count": null,
      "metadata": {
        "colab": {
          "base_uri": "https://localhost:8080/"
        },
        "id": "uY1AbTvK1FMm",
        "outputId": "faf800ea-28ee-4bd5-d26a-c73a45b73552"
      },
      "outputs": [
        {
          "output_type": "stream",
          "name": "stdout",
          "text": [
            "enter the recivers mail_id  :  saisujith.kuturu@gmail.com\n",
            "otp has been sent to saisujith.kuturu@gmail.com\n",
            "enter the otp received in your mail 523658\n",
            "Invalid OTP.You have 2 attempts left\n",
            "enter the otp received in your mail 552222222225\n",
            "Invalid OTP.You have 1 attempts left\n",
            "enter the otp received in your mail 84151\n",
            "you have used all your attempts Acess denied\n"
          ]
        }
      ],
      "source": [
        "# import the required libraries\n",
        "import random\n",
        "import smtplib\n",
        "import time\n",
        "from  email.message import EmailMessage\n",
        "# mention the expiry time for the otp\n",
        "otp_expiry_time= 120\n",
        "\n",
        "# create a function to generate a 6 digit otp\n",
        "# and store it in a string\n",
        "def generate_otp():\n",
        "  otp=\"\"\n",
        "  for i in range(6):\n",
        "    otp=otp+str(random.randint(0,9))\n",
        "  return otp\n",
        "\n",
        "# send the otp to the users mail id\n",
        "def send_otp(email_address,otp):\n",
        " server=smtplib.SMTP('smtp.gmail.com',587)  # simple mail transfer protocol\n",
        " server.starttls() # tls is a transport layer security  encrptys the communication between the  script and the smtp server\n",
        " senders_mail=\"saisujith.kuturu@gmail.com\"\n",
        " password='vmtt nitk tmun jdye'\n",
        " server.login(senders_mail,password)\n",
        "\n",
        "# create a msg class\n",
        " msg=EmailMessage()\n",
        " msg['subject']= 'OTP VERIFICATION'\n",
        " msg['from']=senders_mail\n",
        " msg['to']=email_address\n",
        " msg.set_content(f'your Otp is : {otp}')\n",
        " server.send_message(msg)\n",
        " print(f\"otp has been sent to {email_address}\")\n",
        "\n",
        "# asking to enter the otp received in the mobile\n",
        "def prompt_for_otp():\n",
        "  return input (\"enter the otp received in your mail \")\n",
        "\n",
        "#verifiying if the entered otp matches the generated otp\n",
        "def verify_otp (expected_otp,entered_otp):\n",
        "  return expected_otp==entered_otp\n",
        "\n",
        "def main():\n",
        "  # receivers mail_id\n",
        "  email_address=input(\"enter the recivers mail_id  :  \")\n",
        " # generate otp\n",
        "  otp=generate_otp()\n",
        "  # send otp to mail_id\n",
        "  send_otp(email_address,otp)\n",
        "  # after sending the otp timer starts\n",
        "  start_time=time.time()\n",
        "  # no of attempts for the code\n",
        "  for attempt in range(3):\n",
        "    if time.time()-start_time>otp_expiry_time:\n",
        "      print(\"time expired .resend otp \")\n",
        "      otp=generate_otp()\n",
        "      send_otp(email_address,otp)\n",
        "      start_time=time.time()\n",
        "    entered_otp=prompt_for_otp()\n",
        "\n",
        "    # verify the entered otp if yes acess granted\n",
        "\n",
        "    if verify_otp(otp,entered_otp):\n",
        "     print('otp verification succesful.Acesss  granted ')\n",
        "     return\n",
        "    else:\n",
        "      # says how many attempts are left if otp mismatches or else provides acess\n",
        "     if attempt<2:\n",
        "      print(f\"Invalid OTP.You have {2-attempt} attempts left\")\n",
        "     else:\n",
        "      print(\"you have used all your attempts Acess denied\")\n",
        "\n",
        "if __name__ == \"__main__\":\n",
        "    main()"
      ]
    }
  ]
}